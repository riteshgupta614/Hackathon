{
  "cells": [
    {
      "cell_type": "markdown",
      "metadata": {
        "id": "view-in-github",
        "colab_type": "text"
      },
      "source": [
        "<a href=\"https://colab.research.google.com/github/riteshgupta614/Hackathon/blob/main/all_algo_trial.ipynb\" target=\"_parent\"><img src=\"https://colab.research.google.com/assets/colab-badge.svg\" alt=\"Open In Colab\"/></a>"
      ]
    },
    {
      "cell_type": "code",
      "execution_count": null,
      "id": "049cdf4b",
      "metadata": {
        "id": "049cdf4b"
      },
      "outputs": [],
      "source": [
        "import numpy as np\n",
        "import pandas as pd\n",
        "import seaborn as sns\n",
        "import matplotlib.pyplot as plt\n",
        "import warnings\n",
        "warnings.filterwarnings(\"ignore\")\n",
        "\n",
        "from sklearn.model_selection import train_test_split, cross_val_score\n",
        "from sklearn.preprocessing import StandardScaler\n",
        "from sklearn.metrics import r2_score, mean_absolute_error, mean_squared_error\n",
        "\n",
        "from sklearn.linear_model import LinearRegression\n",
        "from sklearn.linear_model import Ridge\n",
        "from sklearn.linear_model import Lasso\n",
        "from sklearn.linear_model import ElasticNet\n",
        "from sklearn.ensemble import RandomForestRegressor\n",
        "from sklearn.svm import SVR\n",
        "\n",
        "from xgboost import XGBRegressor\n",
        "from sklearn.preprocessing import PolynomialFeatures"
      ]
    },
    {
      "cell_type": "code",
      "execution_count": null,
      "id": "d6cf54dd",
      "metadata": {
        "id": "d6cf54dd",
        "outputId": "c83468b9-d978-4721-e6b2-955c356b95b3"
      },
      "outputs": [
        {
          "data": {
            "text/html": [
              "<div>\n",
              "<style scoped>\n",
              "    .dataframe tbody tr th:only-of-type {\n",
              "        vertical-align: middle;\n",
              "    }\n",
              "\n",
              "    .dataframe tbody tr th {\n",
              "        vertical-align: top;\n",
              "    }\n",
              "\n",
              "    .dataframe thead th {\n",
              "        text-align: right;\n",
              "    }\n",
              "</style>\n",
              "<table border=\"1\" class=\"dataframe\">\n",
              "  <thead>\n",
              "    <tr style=\"text-align: right;\">\n",
              "      <th></th>\n",
              "      <th>campaign_id</th>\n",
              "      <th>sender</th>\n",
              "      <th>subject_len</th>\n",
              "      <th>body_len</th>\n",
              "      <th>mean_paragraph_len</th>\n",
              "      <th>day_of_week</th>\n",
              "      <th>is_weekend</th>\n",
              "      <th>times_of_day</th>\n",
              "      <th>category</th>\n",
              "      <th>product</th>\n",
              "      <th>no_of_CTA</th>\n",
              "      <th>mean_CTA_len</th>\n",
              "      <th>is_image</th>\n",
              "      <th>is_personalised</th>\n",
              "      <th>is_quote</th>\n",
              "      <th>is_timer</th>\n",
              "      <th>is_emoticons</th>\n",
              "      <th>is_discount</th>\n",
              "      <th>is_price</th>\n",
              "      <th>is_urgency</th>\n",
              "      <th>target_audience</th>\n",
              "      <th>click_rate</th>\n",
              "    </tr>\n",
              "  </thead>\n",
              "  <tbody>\n",
              "    <tr>\n",
              "      <th>0</th>\n",
              "      <td>1</td>\n",
              "      <td>3</td>\n",
              "      <td>76</td>\n",
              "      <td>10439</td>\n",
              "      <td>39</td>\n",
              "      <td>5</td>\n",
              "      <td>1</td>\n",
              "      <td>Noon</td>\n",
              "      <td>6</td>\n",
              "      <td>26</td>\n",
              "      <td>3</td>\n",
              "      <td>29</td>\n",
              "      <td>0</td>\n",
              "      <td>0</td>\n",
              "      <td>0</td>\n",
              "      <td>0</td>\n",
              "      <td>0</td>\n",
              "      <td>0</td>\n",
              "      <td>0</td>\n",
              "      <td>0</td>\n",
              "      <td>14</td>\n",
              "      <td>0.103079</td>\n",
              "    </tr>\n",
              "    <tr>\n",
              "      <th>1</th>\n",
              "      <td>2</td>\n",
              "      <td>3</td>\n",
              "      <td>54</td>\n",
              "      <td>2570</td>\n",
              "      <td>256</td>\n",
              "      <td>5</td>\n",
              "      <td>1</td>\n",
              "      <td>Morning</td>\n",
              "      <td>2</td>\n",
              "      <td>11</td>\n",
              "      <td>0</td>\n",
              "      <td>22</td>\n",
              "      <td>0</td>\n",
              "      <td>0</td>\n",
              "      <td>0</td>\n",
              "      <td>0</td>\n",
              "      <td>0</td>\n",
              "      <td>0</td>\n",
              "      <td>0</td>\n",
              "      <td>0</td>\n",
              "      <td>10</td>\n",
              "      <td>0.700000</td>\n",
              "    </tr>\n",
              "    <tr>\n",
              "      <th>2</th>\n",
              "      <td>3</td>\n",
              "      <td>3</td>\n",
              "      <td>59</td>\n",
              "      <td>12801</td>\n",
              "      <td>16</td>\n",
              "      <td>5</td>\n",
              "      <td>1</td>\n",
              "      <td>Noon</td>\n",
              "      <td>2</td>\n",
              "      <td>11</td>\n",
              "      <td>3</td>\n",
              "      <td>23</td>\n",
              "      <td>1</td>\n",
              "      <td>0</td>\n",
              "      <td>1</td>\n",
              "      <td>0</td>\n",
              "      <td>0</td>\n",
              "      <td>0</td>\n",
              "      <td>0</td>\n",
              "      <td>0</td>\n",
              "      <td>16</td>\n",
              "      <td>0.002769</td>\n",
              "    </tr>\n",
              "    <tr>\n",
              "      <th>3</th>\n",
              "      <td>4</td>\n",
              "      <td>3</td>\n",
              "      <td>74</td>\n",
              "      <td>11037</td>\n",
              "      <td>30</td>\n",
              "      <td>4</td>\n",
              "      <td>0</td>\n",
              "      <td>Evening</td>\n",
              "      <td>15</td>\n",
              "      <td>9</td>\n",
              "      <td>4</td>\n",
              "      <td>24</td>\n",
              "      <td>0</td>\n",
              "      <td>0</td>\n",
              "      <td>0</td>\n",
              "      <td>0</td>\n",
              "      <td>0</td>\n",
              "      <td>0</td>\n",
              "      <td>0</td>\n",
              "      <td>0</td>\n",
              "      <td>10</td>\n",
              "      <td>0.010868</td>\n",
              "    </tr>\n",
              "    <tr>\n",
              "      <th>4</th>\n",
              "      <td>5</td>\n",
              "      <td>3</td>\n",
              "      <td>80</td>\n",
              "      <td>10011</td>\n",
              "      <td>27</td>\n",
              "      <td>5</td>\n",
              "      <td>1</td>\n",
              "      <td>Noon</td>\n",
              "      <td>6</td>\n",
              "      <td>26</td>\n",
              "      <td>3</td>\n",
              "      <td>31</td>\n",
              "      <td>0</td>\n",
              "      <td>0</td>\n",
              "      <td>1</td>\n",
              "      <td>0</td>\n",
              "      <td>0</td>\n",
              "      <td>0</td>\n",
              "      <td>0</td>\n",
              "      <td>0</td>\n",
              "      <td>14</td>\n",
              "      <td>0.142826</td>\n",
              "    </tr>\n",
              "  </tbody>\n",
              "</table>\n",
              "</div>"
            ],
            "text/plain": [
              "   campaign_id  sender  subject_len  body_len  mean_paragraph_len  \\\n",
              "0            1       3           76     10439                  39   \n",
              "1            2       3           54      2570                 256   \n",
              "2            3       3           59     12801                  16   \n",
              "3            4       3           74     11037                  30   \n",
              "4            5       3           80     10011                  27   \n",
              "\n",
              "   day_of_week  is_weekend times_of_day  category  product  no_of_CTA  \\\n",
              "0            5           1         Noon         6       26          3   \n",
              "1            5           1      Morning         2       11          0   \n",
              "2            5           1         Noon         2       11          3   \n",
              "3            4           0      Evening        15        9          4   \n",
              "4            5           1         Noon         6       26          3   \n",
              "\n",
              "   mean_CTA_len  is_image  is_personalised  is_quote  is_timer  is_emoticons  \\\n",
              "0            29         0                0         0         0             0   \n",
              "1            22         0                0         0         0             0   \n",
              "2            23         1                0         1         0             0   \n",
              "3            24         0                0         0         0             0   \n",
              "4            31         0                0         1         0             0   \n",
              "\n",
              "   is_discount  is_price  is_urgency  target_audience  click_rate  \n",
              "0            0         0           0               14    0.103079  \n",
              "1            0         0           0               10    0.700000  \n",
              "2            0         0           0               16    0.002769  \n",
              "3            0         0           0               10    0.010868  \n",
              "4            0         0           0               14    0.142826  "
            ]
          },
          "execution_count": 41,
          "metadata": {},
          "output_type": "execute_result"
        }
      ],
      "source": [
        "#importing data\n",
        "train = pd.read_csv('train_F3fUq2S.csv')\n",
        "\n",
        "pd.set_option('display.max_columns', None)\n",
        "\n",
        "train.head()"
      ]
    },
    {
      "cell_type": "markdown",
      "id": "bce73267",
      "metadata": {
        "id": "bce73267"
      },
      "source": [
        "# Feature engineering"
      ]
    },
    {
      "cell_type": "code",
      "execution_count": null,
      "id": "27e7d13c",
      "metadata": {
        "id": "27e7d13c"
      },
      "outputs": [],
      "source": [
        "train['times_of_day'].value_counts()\n",
        "\n",
        "train['times_of_day'] = train['times_of_day'].map({'Morning': 1,'Noon': '2', 'Evening': '3'})\n",
        "\n",
        "train['times_of_day'] = train['times_of_day'].astype(int)"
      ]
    },
    {
      "cell_type": "code",
      "execution_count": null,
      "id": "7584ef28",
      "metadata": {
        "id": "7584ef28",
        "outputId": "985eb42e-c585-4b43-8346-3ba4efb3011f"
      },
      "outputs": [
        {
          "data": {
            "text/html": [
              "<div>\n",
              "<style scoped>\n",
              "    .dataframe tbody tr th:only-of-type {\n",
              "        vertical-align: middle;\n",
              "    }\n",
              "\n",
              "    .dataframe tbody tr th {\n",
              "        vertical-align: top;\n",
              "    }\n",
              "\n",
              "    .dataframe thead th {\n",
              "        text-align: right;\n",
              "    }\n",
              "</style>\n",
              "<table border=\"1\" class=\"dataframe\">\n",
              "  <thead>\n",
              "    <tr style=\"text-align: right;\">\n",
              "      <th></th>\n",
              "      <th>campaign_id</th>\n",
              "      <th>sender</th>\n",
              "      <th>subject_len</th>\n",
              "      <th>body_len</th>\n",
              "      <th>mean_paragraph_len</th>\n",
              "      <th>day_of_week</th>\n",
              "      <th>is_weekend</th>\n",
              "      <th>times_of_day</th>\n",
              "      <th>category</th>\n",
              "      <th>product</th>\n",
              "      <th>no_of_CTA</th>\n",
              "      <th>mean_CTA_len</th>\n",
              "      <th>is_image</th>\n",
              "      <th>is_personalised</th>\n",
              "      <th>is_quote</th>\n",
              "      <th>is_timer</th>\n",
              "      <th>is_emoticons</th>\n",
              "      <th>is_discount</th>\n",
              "      <th>is_price</th>\n",
              "      <th>is_urgency</th>\n",
              "      <th>target_audience</th>\n",
              "      <th>click_rate</th>\n",
              "    </tr>\n",
              "  </thead>\n",
              "  <tbody>\n",
              "    <tr>\n",
              "      <th>0</th>\n",
              "      <td>1</td>\n",
              "      <td>3</td>\n",
              "      <td>76</td>\n",
              "      <td>10439</td>\n",
              "      <td>39</td>\n",
              "      <td>5</td>\n",
              "      <td>1</td>\n",
              "      <td>2</td>\n",
              "      <td>6</td>\n",
              "      <td>26</td>\n",
              "      <td>3</td>\n",
              "      <td>29</td>\n",
              "      <td>0</td>\n",
              "      <td>0</td>\n",
              "      <td>0</td>\n",
              "      <td>0</td>\n",
              "      <td>0</td>\n",
              "      <td>0</td>\n",
              "      <td>0</td>\n",
              "      <td>0</td>\n",
              "      <td>14</td>\n",
              "      <td>0.103079</td>\n",
              "    </tr>\n",
              "    <tr>\n",
              "      <th>1</th>\n",
              "      <td>2</td>\n",
              "      <td>3</td>\n",
              "      <td>54</td>\n",
              "      <td>2570</td>\n",
              "      <td>256</td>\n",
              "      <td>5</td>\n",
              "      <td>1</td>\n",
              "      <td>1</td>\n",
              "      <td>2</td>\n",
              "      <td>11</td>\n",
              "      <td>0</td>\n",
              "      <td>22</td>\n",
              "      <td>0</td>\n",
              "      <td>0</td>\n",
              "      <td>0</td>\n",
              "      <td>0</td>\n",
              "      <td>0</td>\n",
              "      <td>0</td>\n",
              "      <td>0</td>\n",
              "      <td>0</td>\n",
              "      <td>10</td>\n",
              "      <td>0.700000</td>\n",
              "    </tr>\n",
              "    <tr>\n",
              "      <th>2</th>\n",
              "      <td>3</td>\n",
              "      <td>3</td>\n",
              "      <td>59</td>\n",
              "      <td>12801</td>\n",
              "      <td>16</td>\n",
              "      <td>5</td>\n",
              "      <td>1</td>\n",
              "      <td>2</td>\n",
              "      <td>2</td>\n",
              "      <td>11</td>\n",
              "      <td>3</td>\n",
              "      <td>23</td>\n",
              "      <td>1</td>\n",
              "      <td>0</td>\n",
              "      <td>1</td>\n",
              "      <td>0</td>\n",
              "      <td>0</td>\n",
              "      <td>0</td>\n",
              "      <td>0</td>\n",
              "      <td>0</td>\n",
              "      <td>16</td>\n",
              "      <td>0.002769</td>\n",
              "    </tr>\n",
              "    <tr>\n",
              "      <th>3</th>\n",
              "      <td>4</td>\n",
              "      <td>3</td>\n",
              "      <td>74</td>\n",
              "      <td>11037</td>\n",
              "      <td>30</td>\n",
              "      <td>4</td>\n",
              "      <td>0</td>\n",
              "      <td>3</td>\n",
              "      <td>15</td>\n",
              "      <td>9</td>\n",
              "      <td>4</td>\n",
              "      <td>24</td>\n",
              "      <td>0</td>\n",
              "      <td>0</td>\n",
              "      <td>0</td>\n",
              "      <td>0</td>\n",
              "      <td>0</td>\n",
              "      <td>0</td>\n",
              "      <td>0</td>\n",
              "      <td>0</td>\n",
              "      <td>10</td>\n",
              "      <td>0.010868</td>\n",
              "    </tr>\n",
              "    <tr>\n",
              "      <th>4</th>\n",
              "      <td>5</td>\n",
              "      <td>3</td>\n",
              "      <td>80</td>\n",
              "      <td>10011</td>\n",
              "      <td>27</td>\n",
              "      <td>5</td>\n",
              "      <td>1</td>\n",
              "      <td>2</td>\n",
              "      <td>6</td>\n",
              "      <td>26</td>\n",
              "      <td>3</td>\n",
              "      <td>31</td>\n",
              "      <td>0</td>\n",
              "      <td>0</td>\n",
              "      <td>1</td>\n",
              "      <td>0</td>\n",
              "      <td>0</td>\n",
              "      <td>0</td>\n",
              "      <td>0</td>\n",
              "      <td>0</td>\n",
              "      <td>14</td>\n",
              "      <td>0.142826</td>\n",
              "    </tr>\n",
              "  </tbody>\n",
              "</table>\n",
              "</div>"
            ],
            "text/plain": [
              "   campaign_id  sender  subject_len  body_len  mean_paragraph_len  \\\n",
              "0            1       3           76     10439                  39   \n",
              "1            2       3           54      2570                 256   \n",
              "2            3       3           59     12801                  16   \n",
              "3            4       3           74     11037                  30   \n",
              "4            5       3           80     10011                  27   \n",
              "\n",
              "   day_of_week  is_weekend  times_of_day  category  product  no_of_CTA  \\\n",
              "0            5           1             2         6       26          3   \n",
              "1            5           1             1         2       11          0   \n",
              "2            5           1             2         2       11          3   \n",
              "3            4           0             3        15        9          4   \n",
              "4            5           1             2         6       26          3   \n",
              "\n",
              "   mean_CTA_len  is_image  is_personalised  is_quote  is_timer  is_emoticons  \\\n",
              "0            29         0                0         0         0             0   \n",
              "1            22         0                0         0         0             0   \n",
              "2            23         1                0         1         0             0   \n",
              "3            24         0                0         0         0             0   \n",
              "4            31         0                0         1         0             0   \n",
              "\n",
              "   is_discount  is_price  is_urgency  target_audience  click_rate  \n",
              "0            0         0           0               14    0.103079  \n",
              "1            0         0           0               10    0.700000  \n",
              "2            0         0           0               16    0.002769  \n",
              "3            0         0           0               10    0.010868  \n",
              "4            0         0           0               14    0.142826  "
            ]
          },
          "execution_count": 43,
          "metadata": {},
          "output_type": "execute_result"
        }
      ],
      "source": [
        "train.head()"
      ]
    },
    {
      "cell_type": "code",
      "execution_count": null,
      "id": "ae441968",
      "metadata": {
        "id": "ae441968",
        "outputId": "a45f768e-e01e-463f-8121-267a1c1258b5"
      },
      "outputs": [
        {
          "data": {
            "text/plain": [
              "<AxesSubplot:>"
            ]
          },
          "execution_count": 44,
          "metadata": {},
          "output_type": "execute_result"
        },
        {
          "data": {
            "image/png": "[encoded data removed]",
            "text/plain": [
              "<Figure size 1800x1800 with 2 Axes>"
            ]
          },
          "metadata": {
            "needs_background": "light"
          },
          "output_type": "display_data"
        }
      ],
      "source": [
        "ax = plt.subplots(figsize=(25, 25))\n",
        "sns.heatmap(train.corr(), cmap=\"YlGnBu\", annot=True)"
      ]
    },
    {
      "cell_type": "code",
      "execution_count": null,
      "id": "c3ee3557",
      "metadata": {
        "id": "c3ee3557",
        "outputId": "95f2bbda-9d2d-405e-bc04-5a0e4faeea64"
      },
      "outputs": [
        {
          "data": {
            "text/plain": [
              "campaign_id           1888\n",
              "sender                  12\n",
              "subject_len            170\n",
              "body_len              1568\n",
              "mean_paragraph_len     121\n",
              "day_of_week              7\n",
              "is_weekend               2\n",
              "times_of_day             3\n",
              "category                16\n",
              "product                 43\n",
              "no_of_CTA               40\n",
              "mean_CTA_len            79\n",
              "is_image                 6\n",
              "is_personalised          2\n",
              "is_quote                 7\n",
              "is_timer                 1\n",
              "is_emoticons             6\n",
              "is_discount              2\n",
              "is_price                 8\n",
              "is_urgency               2\n",
              "target_audience         17\n",
              "click_rate            1810\n",
              "dtype: int64"
            ]
          },
          "execution_count": 45,
          "metadata": {},
          "output_type": "execute_result"
        }
      ],
      "source": [
        "# checking number of unique values in each column\n",
        "train.nunique()"
      ]
    },
    {
      "cell_type": "code",
      "execution_count": null,
      "id": "bf4ab4df",
      "metadata": {
        "id": "bf4ab4df",
        "outputId": "b0284fbd-db4f-402d-872b-abd0d933a08a"
      },
      "outputs": [
        {
          "data": {
            "text/plain": [
              "'\\n\\n#Cheaking Multicollinearity\\nfrom statsmodels.stats.outliers_influence import variance_inflation_factor\\ndef calc_vif(X):\\n\\n    # Calculating VIF\\n    vif = pd.DataFrame()\\n    vif[\"variables\"] = X.columns\\n    vif[\"VIF\"] = [variance_inflation_factor(X.values, i) for i in range(X.shape[1])]\\n\\n    return(vif)\\n'"
            ]
          },
          "execution_count": 46,
          "metadata": {},
          "output_type": "execute_result"
        }
      ],
      "source": [
        "'''\n",
        "\n",
        "#Cheaking Multicollinearity\n",
        "from statsmodels.stats.outliers_influence import variance_inflation_factor\n",
        "def calc_vif(X):\n",
        "\n",
        "    # Calculating VIF\n",
        "    vif = pd.DataFrame()\n",
        "    vif[\"variables\"] = X.columns\n",
        "    vif[\"VIF\"] = [variance_inflation_factor(X.values, i) for i in range(X.shape[1])]\n",
        "\n",
        "    return(vif)\n",
        "'''"
      ]
    },
    {
      "cell_type": "code",
      "execution_count": null,
      "id": "f3887b42",
      "metadata": {
        "id": "f3887b42"
      },
      "outputs": [],
      "source": [
        "# calc_vif(x)"
      ]
    },
    {
      "cell_type": "markdown",
      "id": "b930f493",
      "metadata": {
        "id": "b930f493"
      },
      "source": [
        "# Test train Split"
      ]
    },
    {
      "cell_type": "code",
      "execution_count": null,
      "id": "c6cf1cdd",
      "metadata": {
        "id": "c6cf1cdd",
        "outputId": "15cbf38c-577c-4851-ab8a-d3ff8c7bbd10"
      },
      "outputs": [
        {
          "data": {
            "text/html": [
              "<div>\n",
              "<style scoped>\n",
              "    .dataframe tbody tr th:only-of-type {\n",
              "        vertical-align: middle;\n",
              "    }\n",
              "\n",
              "    .dataframe tbody tr th {\n",
              "        vertical-align: top;\n",
              "    }\n",
              "\n",
              "    .dataframe thead th {\n",
              "        text-align: right;\n",
              "    }\n",
              "</style>\n",
              "<table border=\"1\" class=\"dataframe\">\n",
              "  <thead>\n",
              "    <tr style=\"text-align: right;\">\n",
              "      <th></th>\n",
              "      <th>sender</th>\n",
              "      <th>subject_len</th>\n",
              "      <th>body_len</th>\n",
              "      <th>mean_paragraph_len</th>\n",
              "      <th>day_of_week</th>\n",
              "      <th>is_weekend</th>\n",
              "      <th>times_of_day</th>\n",
              "      <th>category</th>\n",
              "      <th>product</th>\n",
              "      <th>no_of_CTA</th>\n",
              "      <th>mean_CTA_len</th>\n",
              "      <th>is_image</th>\n",
              "      <th>is_personalised</th>\n",
              "      <th>is_quote</th>\n",
              "      <th>is_timer</th>\n",
              "      <th>is_emoticons</th>\n",
              "      <th>is_discount</th>\n",
              "      <th>is_price</th>\n",
              "      <th>is_urgency</th>\n",
              "      <th>target_audience</th>\n",
              "    </tr>\n",
              "  </thead>\n",
              "  <tbody>\n",
              "    <tr>\n",
              "      <th>0</th>\n",
              "      <td>3</td>\n",
              "      <td>76</td>\n",
              "      <td>10439</td>\n",
              "      <td>39</td>\n",
              "      <td>5</td>\n",
              "      <td>1</td>\n",
              "      <td>2</td>\n",
              "      <td>6</td>\n",
              "      <td>26</td>\n",
              "      <td>3</td>\n",
              "      <td>29</td>\n",
              "      <td>0</td>\n",
              "      <td>0</td>\n",
              "      <td>0</td>\n",
              "      <td>0</td>\n",
              "      <td>0</td>\n",
              "      <td>0</td>\n",
              "      <td>0</td>\n",
              "      <td>0</td>\n",
              "      <td>14</td>\n",
              "    </tr>\n",
              "    <tr>\n",
              "      <th>1</th>\n",
              "      <td>3</td>\n",
              "      <td>54</td>\n",
              "      <td>2570</td>\n",
              "      <td>256</td>\n",
              "      <td>5</td>\n",
              "      <td>1</td>\n",
              "      <td>1</td>\n",
              "      <td>2</td>\n",
              "      <td>11</td>\n",
              "      <td>0</td>\n",
              "      <td>22</td>\n",
              "      <td>0</td>\n",
              "      <td>0</td>\n",
              "      <td>0</td>\n",
              "      <td>0</td>\n",
              "      <td>0</td>\n",
              "      <td>0</td>\n",
              "      <td>0</td>\n",
              "      <td>0</td>\n",
              "      <td>10</td>\n",
              "    </tr>\n",
              "    <tr>\n",
              "      <th>2</th>\n",
              "      <td>3</td>\n",
              "      <td>59</td>\n",
              "      <td>12801</td>\n",
              "      <td>16</td>\n",
              "      <td>5</td>\n",
              "      <td>1</td>\n",
              "      <td>2</td>\n",
              "      <td>2</td>\n",
              "      <td>11</td>\n",
              "      <td>3</td>\n",
              "      <td>23</td>\n",
              "      <td>1</td>\n",
              "      <td>0</td>\n",
              "      <td>1</td>\n",
              "      <td>0</td>\n",
              "      <td>0</td>\n",
              "      <td>0</td>\n",
              "      <td>0</td>\n",
              "      <td>0</td>\n",
              "      <td>16</td>\n",
              "    </tr>\n",
              "    <tr>\n",
              "      <th>3</th>\n",
              "      <td>3</td>\n",
              "      <td>74</td>\n",
              "      <td>11037</td>\n",
              "      <td>30</td>\n",
              "      <td>4</td>\n",
              "      <td>0</td>\n",
              "      <td>3</td>\n",
              "      <td>15</td>\n",
              "      <td>9</td>\n",
              "      <td>4</td>\n",
              "      <td>24</td>\n",
              "      <td>0</td>\n",
              "      <td>0</td>\n",
              "      <td>0</td>\n",
              "      <td>0</td>\n",
              "      <td>0</td>\n",
              "      <td>0</td>\n",
              "      <td>0</td>\n",
              "      <td>0</td>\n",
              "      <td>10</td>\n",
              "    </tr>\n",
              "    <tr>\n",
              "      <th>4</th>\n",
              "      <td>3</td>\n",
              "      <td>80</td>\n",
              "      <td>10011</td>\n",
              "      <td>27</td>\n",
              "      <td>5</td>\n",
              "      <td>1</td>\n",
              "      <td>2</td>\n",
              "      <td>6</td>\n",
              "      <td>26</td>\n",
              "      <td>3</td>\n",
              "      <td>31</td>\n",
              "      <td>0</td>\n",
              "      <td>0</td>\n",
              "      <td>1</td>\n",
              "      <td>0</td>\n",
              "      <td>0</td>\n",
              "      <td>0</td>\n",
              "      <td>0</td>\n",
              "      <td>0</td>\n",
              "      <td>14</td>\n",
              "    </tr>\n",
              "  </tbody>\n",
              "</table>\n",
              "</div>"
            ],
            "text/plain": [
              "   sender  subject_len  body_len  mean_paragraph_len  day_of_week  is_weekend  \\\n",
              "0       3           76     10439                  39            5           1   \n",
              "1       3           54      2570                 256            5           1   \n",
              "2       3           59     12801                  16            5           1   \n",
              "3       3           74     11037                  30            4           0   \n",
              "4       3           80     10011                  27            5           1   \n",
              "\n",
              "   times_of_day  category  product  no_of_CTA  mean_CTA_len  is_image  \\\n",
              "0             2         6       26          3            29         0   \n",
              "1             1         2       11          0            22         0   \n",
              "2             2         2       11          3            23         1   \n",
              "3             3        15        9          4            24         0   \n",
              "4             2         6       26          3            31         0   \n",
              "\n",
              "   is_personalised  is_quote  is_timer  is_emoticons  is_discount  is_price  \\\n",
              "0                0         0         0             0            0         0   \n",
              "1                0         0         0             0            0         0   \n",
              "2                0         1         0             0            0         0   \n",
              "3                0         0         0             0            0         0   \n",
              "4                0         1         0             0            0         0   \n",
              "\n",
              "   is_urgency  target_audience  \n",
              "0           0               14  \n",
              "1           0               10  \n",
              "2           0               16  \n",
              "3           0               10  \n",
              "4           0               14  "
            ]
          },
          "execution_count": 48,
          "metadata": {},
          "output_type": "execute_result"
        }
      ],
      "source": [
        "X = train.drop(['campaign_id','click_rate'],axis=1)\n",
        "\n",
        "X.head()"
      ]
    },
    {
      "cell_type": "code",
      "execution_count": null,
      "id": "76dadfc6",
      "metadata": {
        "id": "76dadfc6",
        "outputId": "51c69aae-a9b1-47bd-aeb2-63c6445a9aac"
      },
      "outputs": [
        {
          "data": {
            "text/plain": [
              "0    0.103079\n",
              "1    0.700000\n",
              "2    0.002769\n",
              "3    0.010868\n",
              "4    0.142826\n",
              "Name: click_rate, dtype: float64"
            ]
          },
          "execution_count": 49,
          "metadata": {},
          "output_type": "execute_result"
        }
      ],
      "source": [
        "y = train['click_rate']\n",
        "\n",
        "y.head()"
      ]
    },
    {
      "cell_type": "code",
      "execution_count": null,
      "id": "75c87235",
      "metadata": {
        "id": "75c87235"
      },
      "outputs": [],
      "source": [
        "X_train, X_test, y_train, y_test = train_test_split(X, y, test_size=0.2, random_state=42)"
      ]
    },
    {
      "cell_type": "markdown",
      "id": "56aceedc",
      "metadata": {
        "id": "56aceedc"
      },
      "source": [
        "# Model Training"
      ]
    },
    {
      "cell_type": "code",
      "execution_count": null,
      "id": "0d3850ae",
      "metadata": {
        "id": "0d3850ae"
      },
      "outputs": [],
      "source": [
        "def rmse_cv(model):\n",
        "    rmse = np.sqrt(-cross_val_score(model, X, y, scoring=\"neg_mean_squared_error\", cv=5)).mean()\n",
        "    return rmse\n",
        "    \n",
        "\n",
        "def evaluation(y, predictions):\n",
        "    mae = mean_absolute_error(y, predictions)\n",
        "    mse = mean_squared_error(y, predictions)\n",
        "    rmse = np.sqrt(mean_squared_error(y, predictions))\n",
        "    r_squared = r2_score(y, predictions)\n",
        "    return mae, mse, rmse, r_squared"
      ]
    },
    {
      "cell_type": "code",
      "execution_count": null,
      "id": "2b250654",
      "metadata": {
        "id": "2b250654"
      },
      "outputs": [],
      "source": [
        "models = pd.DataFrame(columns=[\"Model\",\"MAE\",\"MSE\",\"RMSE\",\"R2 Score\",\"RMSE (Cross-Validation)\"])"
      ]
    },
    {
      "cell_type": "markdown",
      "id": "0ce1fbb3",
      "metadata": {
        "id": "0ce1fbb3"
      },
      "source": [
        "# Trail models"
      ]
    },
    {
      "cell_type": "markdown",
      "id": "c7e569b7",
      "metadata": {
        "id": "c7e569b7"
      },
      "source": [
        "Linear Regression - Comented because poor r2 result compared to other Models"
      ]
    },
    {
      "cell_type": "code",
      "execution_count": null,
      "id": "75bbac57",
      "metadata": {
        "id": "75bbac57",
        "outputId": "babff14d-5771-4f57-f32e-f42eec5892ea"
      },
      "outputs": [
        {
          "data": {
            "text/plain": [
              "'\\n\\nlin_reg = LinearRegression()\\nlin_reg.fit(X_train, y_train)\\npredictions = lin_reg.predict(X_test)\\n\\nmae, mse, rmse, r_squared = evaluation(y_test, predictions)\\nprint(\"MAE:\", mae)\\nprint(\"MSE:\", mse)\\nprint(\"RMSE:\", rmse)\\nprint(\"R2 Score:\", r_squared)\\nprint(\"-\"*30)\\nrmse_cross_val = rmse_cv(lin_reg)\\nprint(\"RMSE Cross-Validation:\", rmse_cross_val)\\n\\nnew_row = {\"Model\": \"LinearRegression\",\"MAE\": mae, \"MSE\": mse, \"RMSE\": rmse, \"R2 Score\": r_squared, \"RMSE (Cross-Validation)\": rmse_cross_val}\\nmodels = models.append(new_row, ignore_index=True)\\n\\n'"
            ]
          },
          "execution_count": 53,
          "metadata": {},
          "output_type": "execute_result"
        }
      ],
      "source": [
        "'''\n",
        "\n",
        "lin_reg = LinearRegression()\n",
        "lin_reg.fit(X_train, y_train)\n",
        "predictions = lin_reg.predict(X_test)\n",
        "\n",
        "mae, mse, rmse, r_squared = evaluation(y_test, predictions)\n",
        "print(\"MAE:\", mae)\n",
        "print(\"MSE:\", mse)\n",
        "print(\"RMSE:\", rmse)\n",
        "print(\"R2 Score:\", r_squared)\n",
        "print(\"-\"*30)\n",
        "rmse_cross_val = rmse_cv(lin_reg)\n",
        "print(\"RMSE Cross-Validation:\", rmse_cross_val)\n",
        "\n",
        "new_row = {\"Model\": \"LinearRegression\",\"MAE\": mae, \"MSE\": mse, \"RMSE\": rmse, \"R2 Score\": r_squared, \"RMSE (Cross-Validation)\": rmse_cross_val}\n",
        "models = models.append(new_row, ignore_index=True)\n",
        "\n",
        "'''\n"
      ]
    },
    {
      "cell_type": "markdown",
      "id": "8939197c",
      "metadata": {
        "id": "8939197c"
      },
      "source": [
        "Ridge Regression - Comented because poor r2 result compared to other Models"
      ]
    },
    {
      "cell_type": "code",
      "execution_count": null,
      "id": "b364bf94",
      "metadata": {
        "id": "b364bf94",
        "outputId": "f6ab8421-8284-441a-f397-231d93d6743c"
      },
      "outputs": [
        {
          "data": {
            "text/plain": [
              "'\\n\\nridge = Ridge()\\nridge.fit(X_train, y_train)\\npredictions = ridge.predict(X_test)\\n\\nmae, mse, rmse, r_squared = evaluation(y_test, predictions)\\nprint(\"MAE:\", mae)\\nprint(\"MSE:\", mse)\\nprint(\"RMSE:\", rmse)\\nprint(\"R2 Score:\", r_squared)\\nprint(\"-\"*30)\\nrmse_cross_val = rmse_cv(ridge)\\nprint(\"RMSE Cross-Validation:\", rmse_cross_val)\\n\\nnew_row = {\"Model\": \"Ridge\",\"MAE\": mae, \"MSE\": mse, \"RMSE\": rmse, \"R2 Score\": r_squared, \"RMSE (Cross-Validation)\": rmse_cross_val}\\nmodels = models.append(new_row, ignore_index=True)\\n\\n\\n'"
            ]
          },
          "execution_count": 54,
          "metadata": {},
          "output_type": "execute_result"
        }
      ],
      "source": [
        "'''\n",
        "\n",
        "ridge = Ridge()\n",
        "ridge.fit(X_train, y_train)\n",
        "predictions = ridge.predict(X_test)\n",
        "\n",
        "mae, mse, rmse, r_squared = evaluation(y_test, predictions)\n",
        "print(\"MAE:\", mae)\n",
        "print(\"MSE:\", mse)\n",
        "print(\"RMSE:\", rmse)\n",
        "print(\"R2 Score:\", r_squared)\n",
        "print(\"-\"*30)\n",
        "rmse_cross_val = rmse_cv(ridge)\n",
        "print(\"RMSE Cross-Validation:\", rmse_cross_val)\n",
        "\n",
        "new_row = {\"Model\": \"Ridge\",\"MAE\": mae, \"MSE\": mse, \"RMSE\": rmse, \"R2 Score\": r_squared, \"RMSE (Cross-Validation)\": rmse_cross_val}\n",
        "models = models.append(new_row, ignore_index=True)\n",
        "\n",
        "\n",
        "'''"
      ]
    },
    {
      "cell_type": "markdown",
      "id": "3e3576ec",
      "metadata": {
        "id": "3e3576ec"
      },
      "source": [
        "Lasso Regression - Comented because poor r2 result compared to other Models"
      ]
    },
    {
      "cell_type": "code",
      "execution_count": null,
      "id": "f8cf10ca",
      "metadata": {
        "id": "f8cf10ca",
        "outputId": "49ed82f3-f71d-4bb9-d615-2f134fdff80e"
      },
      "outputs": [
        {
          "data": {
            "text/plain": [
              "'\\n\\nlasso = Lasso()\\nlasso.fit(X_train, y_train)\\npredictions = lasso.predict(X_test)\\n\\nmae, mse, rmse, r_squared = evaluation(y_test, predictions)\\nprint(\"MAE:\", mae)\\nprint(\"MSE:\", mse)\\nprint(\"RMSE:\", rmse)\\nprint(\"R2 Score:\", r_squared)\\nprint(\"-\"*30)\\nrmse_cross_val = rmse_cv(lasso)\\nprint(\"RMSE Cross-Validation:\", rmse_cross_val)\\n\\nnew_row = {\"Model\": \"Lasso\",\"MAE\": mae, \"MSE\": mse, \"RMSE\": rmse, \"R2 Score\": r_squared, \"RMSE (Cross-Validation)\": rmse_cross_val}\\nmodels = models.append(new_row, ignore_index=True)\\n\\n\\n'"
            ]
          },
          "execution_count": 55,
          "metadata": {},
          "output_type": "execute_result"
        }
      ],
      "source": [
        "'''\n",
        "\n",
        "lasso = Lasso()\n",
        "lasso.fit(X_train, y_train)\n",
        "predictions = lasso.predict(X_test)\n",
        "\n",
        "mae, mse, rmse, r_squared = evaluation(y_test, predictions)\n",
        "print(\"MAE:\", mae)\n",
        "print(\"MSE:\", mse)\n",
        "print(\"RMSE:\", rmse)\n",
        "print(\"R2 Score:\", r_squared)\n",
        "print(\"-\"*30)\n",
        "rmse_cross_val = rmse_cv(lasso)\n",
        "print(\"RMSE Cross-Validation:\", rmse_cross_val)\n",
        "\n",
        "new_row = {\"Model\": \"Lasso\",\"MAE\": mae, \"MSE\": mse, \"RMSE\": rmse, \"R2 Score\": r_squared, \"RMSE (Cross-Validation)\": rmse_cross_val}\n",
        "models = models.append(new_row, ignore_index=True)\n",
        "\n",
        "\n",
        "'''"
      ]
    },
    {
      "cell_type": "markdown",
      "id": "9e4f37cc",
      "metadata": {
        "id": "9e4f37cc"
      },
      "source": [
        "Elastic Net - Comented because poor r2 result compared to other Models "
      ]
    },
    {
      "cell_type": "code",
      "execution_count": null,
      "id": "75ef6e1b",
      "metadata": {
        "id": "75ef6e1b",
        "outputId": "4d603c95-42c0-43b1-d5ea-d943e25a2dd5"
      },
      "outputs": [
        {
          "data": {
            "text/plain": [
              "'\\n\\nelastic_net = ElasticNet()\\nelastic_net.fit(X_train, y_train)\\npredictions = elastic_net.predict(X_test)\\n\\nmae, mse, rmse, r_squared = evaluation(y_test, predictions)\\nprint(\"MAE:\", mae)\\nprint(\"MSE:\", mse)\\nprint(\"RMSE:\", rmse)\\nprint(\"R2 Score:\", r_squared)\\nprint(\"-\"*30)\\nrmse_cross_val = rmse_cv(elastic_net)\\nprint(\"RMSE Cross-Validation:\", rmse_cross_val)\\n\\nnew_row = {\"Model\": \"ElasticNet\",\"MAE\": mae, \"MSE\": mse, \"RMSE\": rmse, \"R2 Score\": r_squared, \"RMSE (Cross-Validation)\": rmse_cross_val}\\nmodels = models.append(new_row, ignore_index=True)\\n\\n'"
            ]
          },
          "execution_count": 56,
          "metadata": {},
          "output_type": "execute_result"
        }
      ],
      "source": [
        "'''\n",
        "\n",
        "elastic_net = ElasticNet()\n",
        "elastic_net.fit(X_train, y_train)\n",
        "predictions = elastic_net.predict(X_test)\n",
        "\n",
        "mae, mse, rmse, r_squared = evaluation(y_test, predictions)\n",
        "print(\"MAE:\", mae)\n",
        "print(\"MSE:\", mse)\n",
        "print(\"RMSE:\", rmse)\n",
        "print(\"R2 Score:\", r_squared)\n",
        "print(\"-\"*30)\n",
        "rmse_cross_val = rmse_cv(elastic_net)\n",
        "print(\"RMSE Cross-Validation:\", rmse_cross_val)\n",
        "\n",
        "new_row = {\"Model\": \"ElasticNet\",\"MAE\": mae, \"MSE\": mse, \"RMSE\": rmse, \"R2 Score\": r_squared, \"RMSE (Cross-Validation)\": rmse_cross_val}\n",
        "models = models.append(new_row, ignore_index=True)\n",
        "\n",
        "'''"
      ]
    },
    {
      "cell_type": "markdown",
      "id": "b255eb97",
      "metadata": {
        "id": "b255eb97"
      },
      "source": [
        "Support Vector Machines - Comented because poor r2 result compared to other Models "
      ]
    },
    {
      "cell_type": "code",
      "execution_count": null,
      "id": "dccc597f",
      "metadata": {
        "id": "dccc597f",
        "outputId": "42e72f97-5b9b-44f3-82a1-fef16fa43d17"
      },
      "outputs": [
        {
          "data": {
            "text/plain": [
              "'svr = SVR(C=100000)\\nsvr.fit(X_train, y_train)\\npredictions = svr.predict(X_test)\\n\\nmae, mse, rmse, r_squared = evaluation(y_test, predictions)\\nprint(\"MAE:\", mae)\\nprint(\"MSE:\", mse)\\nprint(\"RMSE:\", rmse)\\nprint(\"R2 Score:\", r_squared)\\nprint(\"-\"*30)\\nrmse_cross_val = rmse_cv(svr)\\nprint(\"RMSE Cross-Validation:\", rmse_cross_val)\\n\\nnew_row = {\"Model\": \"SVR\",\"MAE\": mae, \"MSE\": mse, \"RMSE\": rmse, \"R2 Score\": r_squared, \"RMSE (Cross-Validation)\": rmse_cross_val}\\nmodels = models.append(new_row, ignore_index=True)\\n\\n'"
            ]
          },
          "execution_count": 57,
          "metadata": {},
          "output_type": "execute_result"
        }
      ],
      "source": [
        "'''svr = SVR(C=100000)\n",
        "svr.fit(X_train, y_train)\n",
        "predictions = svr.predict(X_test)\n",
        "\n",
        "mae, mse, rmse, r_squared = evaluation(y_test, predictions)\n",
        "print(\"MAE:\", mae)\n",
        "print(\"MSE:\", mse)\n",
        "print(\"RMSE:\", rmse)\n",
        "print(\"R2 Score:\", r_squared)\n",
        "print(\"-\"*30)\n",
        "rmse_cross_val = rmse_cv(svr)\n",
        "print(\"RMSE Cross-Validation:\", rmse_cross_val)\n",
        "\n",
        "new_row = {\"Model\": \"SVR\",\"MAE\": mae, \"MSE\": mse, \"RMSE\": rmse, \"R2 Score\": r_squared, \"RMSE (Cross-Validation)\": rmse_cross_val}\n",
        "models = models.append(new_row, ignore_index=True)\n",
        "\n",
        "'''"
      ]
    },
    {
      "cell_type": "markdown",
      "id": "74976e40",
      "metadata": {
        "id": "74976e40"
      },
      "source": [
        "Random Forest Regressor - Comented because poor r2 result compared to other Models"
      ]
    },
    {
      "cell_type": "code",
      "execution_count": null,
      "id": "f4260f94",
      "metadata": {
        "id": "f4260f94",
        "outputId": "189bed3f-9e4b-4d64-cebb-9fff7184fb16"
      },
      "outputs": [
        {
          "data": {
            "text/plain": [
              "'\\nrandom_forest = RandomForestRegressor(n_estimators=100)\\nrandom_forest.fit(X_train, y_train)\\npredictions = random_forest.predict(X_test)\\n\\nmae, mse, rmse, r_squared = evaluation(y_test, predictions)\\nprint(\"MAE:\", mae)\\nprint(\"MSE:\", mse)\\nprint(\"RMSE:\", rmse)\\nprint(\"R2 Score:\", r_squared)\\n\\n\\ncv_scores = cross_val_score(random_forest, X_train, y_train, cv=5,scoring= \\'r2\\')\\ncv_scores.mean()\\n\\n'"
            ]
          },
          "execution_count": 58,
          "metadata": {},
          "output_type": "execute_result"
        }
      ],
      "source": [
        "'''\n",
        "random_forest = RandomForestRegressor(n_estimators=100)\n",
        "random_forest.fit(X_train, y_train)\n",
        "predictions = random_forest.predict(X_test)\n",
        "\n",
        "mae, mse, rmse, r_squared = evaluation(y_test, predictions)\n",
        "print(\"MAE:\", mae)\n",
        "print(\"MSE:\", mse)\n",
        "print(\"RMSE:\", rmse)\n",
        "print(\"R2 Score:\", r_squared)\n",
        "\n",
        "\n",
        "cv_scores = cross_val_score(random_forest, X_train, y_train, cv=5,scoring= 'r2')\n",
        "cv_scores.mean()\n",
        "\n",
        "'''"
      ]
    },
    {
      "cell_type": "markdown",
      "id": "7139bfb1",
      "metadata": {
        "id": "7139bfb1"
      },
      "source": [
        "XGBoost Regressor - Comented because poor r2 result compared to other Models"
      ]
    },
    {
      "cell_type": "code",
      "execution_count": null,
      "id": "93396afa",
      "metadata": {
        "id": "93396afa",
        "outputId": "8f8f288f-bd8a-435a-eba3-5685238b1cc8"
      },
      "outputs": [
        {
          "data": {
            "text/plain": [
              "'\\n\\nxgb = XGBRegressor(n_estimators=1000, learning_rate=0.01)\\nxgb.fit(X_train, y_train)\\npredictions = xgb.predict(X_test)\\n\\nmae, mse, rmse, r_squared = evaluation(y_test, predictions)\\nprint(\"MAE:\", mae)\\nprint(\"MSE:\", mse)\\nprint(\"RMSE:\", rmse)\\nprint(\"R2 Score:\", r_squared)\\n'"
            ]
          },
          "execution_count": 59,
          "metadata": {},
          "output_type": "execute_result"
        }
      ],
      "source": [
        "'''\n",
        "\n",
        "xgb = XGBRegressor(n_estimators=1000, learning_rate=0.01)\n",
        "xgb.fit(X_train, y_train)\n",
        "predictions = xgb.predict(X_test)\n",
        "\n",
        "mae, mse, rmse, r_squared = evaluation(y_test, predictions)\n",
        "print(\"MAE:\", mae)\n",
        "print(\"MSE:\", mse)\n",
        "print(\"RMSE:\", rmse)\n",
        "print(\"R2 Score:\", r_squared)\n",
        "'''"
      ]
    },
    {
      "cell_type": "code",
      "execution_count": null,
      "id": "b3229aa1",
      "metadata": {
        "id": "b3229aa1",
        "outputId": "99977d92-2143-439b-d08b-e268f055e03f"
      },
      "outputs": [
        {
          "data": {
            "text/plain": [
              "'\\n\\nfrom sklearn.linear_model import SGDRegressor\\nsgd= SGDRegressor(max_iter= 10000, epsilon= 0.0002, loss=\"squared_loss\")\\n\\n#fiting the model\\nsgd.fit(X_train, y_train)\\n\\ny_pred_sgd = sgd.predict(X_test)\\n\\n\\nmae, mse, rmse, r_squared = evaluation(y_test, y_pred_sgd)\\nprint(\"MAE:\", mae)\\nprint(\"MSE:\", mse)\\nprint(\"RMSE:\", rmse)\\nprint(\"R2 Score:\", r_squared)\\n\\n#cross validation score\\ncv_scores = cross_val_score(random_forest, X_train, y_train, cv=5,scoring= \\'r2\\')\\ncv_scores.mean()\\n\\n'"
            ]
          },
          "execution_count": 60,
          "metadata": {},
          "output_type": "execute_result"
        }
      ],
      "source": [
        "'''\n",
        "\n",
        "from sklearn.linear_model import SGDRegressor\n",
        "sgd= SGDRegressor(max_iter= 10000, epsilon= 0.0002, loss=\"squared_loss\")\n",
        "\n",
        "#fiting the model\n",
        "sgd.fit(X_train, y_train)\n",
        "\n",
        "y_pred_sgd = sgd.predict(X_test)\n",
        "\n",
        "\n",
        "mae, mse, rmse, r_squared = evaluation(y_test, y_pred_sgd)\n",
        "print(\"MAE:\", mae)\n",
        "print(\"MSE:\", mse)\n",
        "print(\"RMSE:\", rmse)\n",
        "print(\"R2 Score:\", r_squared)\n",
        "\n",
        "#cross validation score\n",
        "cv_scores = cross_val_score(random_forest, X_train, y_train, cv=5,scoring= 'r2')\n",
        "cv_scores.mean()\n",
        "\n",
        "'''"
      ]
    },
    {
      "cell_type": "markdown",
      "id": "24509bbb",
      "metadata": {
        "id": "24509bbb"
      },
      "source": [
        "Decision Tree - with hyperpatameters Comented because poor r2 result compared to other Models\n"
      ]
    },
    {
      "cell_type": "code",
      "execution_count": null,
      "id": "2899f02a",
      "metadata": {
        "id": "2899f02a"
      },
      "outputs": [],
      "source": [
        "\n",
        "from sklearn.tree import DecisionTreeRegressor\n",
        "# dt1 = DecisionTreeRegressor()\n",
        "\n",
        "# from sklearn.model_selection import GridSearchCV\n",
        "\n",
        "\n",
        "# parameters = {\"max_depth\" : (100,120,150,),\n",
        "#               \"max_features\" : (\"auto\",\"sqrt\",\"log2\"),\n",
        "#               \"max_leaf_nodes\" : (3,4,5),\n",
        "#               \"min_samples_split\" : (4,6,8,10),\n",
        "#               \"min_samples_leaf\" : (2,3,4,5,6)}\n",
        "\n",
        "# dt_grid = GridSearchCV(dt1 , param_grid=parameters,refit=True, n_jobs=-1,cv=10,verbose=2)\n",
        "# dt_grid\n",
        "\n",
        "# # fitting the model\n",
        "# dt_grid.fit(X_train,y_train)\n",
        "\n",
        "# #predicting y\n",
        "# y_pred_dt = dt_grid.predict(X_test)\n",
        "\n",
        "\n",
        "# mae, mse, rmse, r_squared = evaluation(y_test, y_pred_dt)\n",
        "# print(\"MAE:\", mae)\n",
        "# print(\"MSE:\", mse)\n",
        "# print(\"RMSE:\", rmse)\n",
        "# print(\"R2 Score:\", r_squared)\n",
        "\n",
        "# #cross validation score\n",
        "# cv_scores = cross_val_score(random_forest, X_train, y_train, cv=5,scoring= 'r2')\n",
        "# cv_scores.mean()\n",
        "\n"
      ]
    },
    {
      "cell_type": "markdown",
      "id": "cf8a02b1",
      "metadata": {
        "id": "cf8a02b1"
      },
      "source": [
        "Random Forest - with hyperpatameters Comented because poor r2 result compared to other Models\n"
      ]
    },
    {
      "cell_type": "code",
      "execution_count": null,
      "id": "9a80c450",
      "metadata": {
        "id": "9a80c450"
      },
      "outputs": [],
      "source": [
        "# from sklearn.ensemble import RandomForestRegressor\n",
        "\n",
        "# regf = RandomForestRegressor()\n",
        "  \n",
        "# regf_params = {\"n_estimators\":(10,20,30),\n",
        "#                 'max_depth':(2,3,5),\n",
        "#                 'min_samples_split':[3,5,7],\n",
        "#                 'min_samples_leaf':[2,4],\n",
        "#                 'max_features':['auto','sqrt']}\n",
        "# rf_GS = GridSearchCV(estimator=regf ,param_grid=regf_params,n_jobs=-1,cv=5,verbose=2)\n",
        "# rf_GS\n",
        "# # fitting the model\n",
        "# rf_GS.fit(X_train,y_train)\n",
        "# #predicting y\n",
        "# y_pred_rf = rf_GS.predict(X_test)\n",
        "\n",
        "\n",
        "# mae, mse, rmse, r_squared = evaluation(y_test, y_pred_rf)\n",
        "# print(\"MAE:\", mae)\n",
        "# print(\"MSE:\", mse)\n",
        "# print(\"RMSE:\", rmse)\n",
        "# print(\"R2 Score:\", r_squared)\n",
        "\n",
        "# #cross validation score\n",
        "# cv_scores = cross_val_score(random_forest, X_train, y_train, cv=5,scoring= 'r2')\n",
        "# cv_scores.mean()\n"
      ]
    },
    {
      "cell_type": "markdown",
      "id": "d2ea000a",
      "metadata": {
        "id": "d2ea000a"
      },
      "source": [
        "AdaBoostRegressor Comented because poor r2 result compared to other Models"
      ]
    },
    {
      "cell_type": "code",
      "execution_count": null,
      "id": "9f4dbc5f",
      "metadata": {
        "id": "9f4dbc5f"
      },
      "outputs": [],
      "source": [
        "# from sklearn.ensemble import AdaBoostRegressor\n",
        "# ada_boost = AdaBoostRegressor(learning_rate=0.15,random_state =85, n_estimators=100)\n",
        "# # fitting data\n",
        "# ada_boost.fit(X_train,y_train)\n",
        "\n",
        "# #Predicting value\n",
        "# y_pred_ada = ada_boost.predict(X_test)\n",
        "\n",
        "# mae, mse, rmse, r_squared = evaluation(y_test, y_pred_ada)\n",
        "# print(\"MAE:\", mae)\n",
        "# print(\"MSE:\", mse)\n",
        "# print(\"RMSE:\", rmse)\n",
        "# print(\"R2 Score:\", r_squared)\n",
        "\n",
        "# #cross validation score\n",
        "# cv_scores = cross_val_score(random_forest, X_train, y_train, cv=5,scoring= 'r2')\n",
        "# cv_scores.mean()\n"
      ]
    },
    {
      "cell_type": "code",
      "execution_count": null,
      "id": "bf716037",
      "metadata": {
        "id": "bf716037"
      },
      "outputs": [],
      "source": [
        "# from sklearn.model_selection import GridSearchCV"
      ]
    },
    {
      "cell_type": "code",
      "execution_count": null,
      "id": "06927af8",
      "metadata": {
        "id": "06927af8"
      },
      "outputs": [],
      "source": [
        "   \n",
        "# xgb = XGBRegressor()   \n",
        "# regf_params = {'n_estimators': randint(50, 400),\n",
        "#               'learning_rate': uniform(0.01, 0.59),\n",
        "#               'subsample': uniform(0.3, 0.6),\n",
        "#               'max_depth': [3, 4, 5, 6, 7, 8, 9],\n",
        "#               'colsample_bytree': uniform(0.5, 0.4),\n",
        "#               'min_child_weight': [1, 2, 3, 4] }\n",
        "# rf_GS = GridSearchCV(estimator=xgb ,param_grid=regf_params,n_jobs=-1,cv=5,verbose=2)\n",
        "# rf_GS\n",
        "# # fitting the model\n",
        "# rf_GS.fit(X_train,y_train)\n",
        "# #predicting y\n",
        "# y_pred_rf = rf_GS.predict(X_test)\n",
        "\n",
        "\n",
        "# mae, mse, rmse, r_squared = evaluation(y_test, y_pred_rf)\n",
        "# print(\"MAE:\", mae)\n",
        "# print(\"MSE:\", mse)\n",
        "# print(\"RMSE:\", rmse)\n",
        "# print(\"R2 Score:\", r_squared)\n",
        "\n",
        "# #cross validation score\n",
        "# cv_scores = cross_val_score(random_forest, X_train, y_train, cv=5,scoring= 'r2')\n",
        "# cv_scores.mean()"
      ]
    },
    {
      "cell_type": "code",
      "execution_count": null,
      "id": "b5aa911e",
      "metadata": {
        "id": "b5aa911e"
      },
      "outputs": [],
      "source": [
        "# from sklearn.ensemble import AdaBoostRegressor\n",
        "# search_grid = {'loss': 'exponential',\n",
        "#                'n_estimators': [300,350,420,450],               \n",
        "#                'max_depth': [3, 4, 5, 6, 7, 8, 9,10,11,12]}\n",
        "               \n",
        "               \n"
      ]
    },
    {
      "cell_type": "code",
      "execution_count": null,
      "id": "345a2e0e",
      "metadata": {
        "id": "345a2e0e"
      },
      "outputs": [],
      "source": [
        "# ada_boost = AdaBoostRegressor(base_estimator = DecisionTreeRegressor, param_grid=search_grid, random_state=1)\n",
        "\n",
        "\n",
        "# ridge = Ridge()\n",
        "# parameters = {'alpha': [1e-15,1e-10,1e-8,1e-5,1e-4,1e-3,1e-2,1,5,10,20,30,40,45,50,55,60,100]}\n",
        "# ridge_regressor = GridSearchCV(ridge, parameters, scoring='neg_mean_squared_error', cv=3)\n",
        "\n"
      ]
    },
    {
      "cell_type": "markdown",
      "id": "1615aeee",
      "metadata": {
        "id": "1615aeee"
      },
      "source": [
        "# Final Model - AdaBoostRegressor  with DecisionTreeRegressor as a base_estimator"
      ]
    },
    {
      "cell_type": "code",
      "execution_count": null,
      "id": "f0e18519",
      "metadata": {
        "id": "f0e18519",
        "outputId": "ddf16a2f-d413-430f-f6cb-59f8eaffa4cb"
      },
      "outputs": [
        {
          "name": "stdout",
          "output_type": "stream",
          "text": [
            "MAE: 0.02434599292103183\n",
            "MSE: 0.0015920989669838698\n",
            "RMSE: 0.039901114858909265\n",
            "R2 Score: 0.6401999103062741\n"
          ]
        },
        {
          "data": {
            "text/plain": [
              "0.47149978254139224"
            ]
          },
          "execution_count": 68,
          "metadata": {},
          "output_type": "execute_result"
        }
      ],
      "source": [
        "from sklearn.ensemble import AdaBoostRegressor\n",
        "ada_boost = AdaBoostRegressor(base_estimator=DecisionTreeRegressor(max_depth=10),\n",
        "                  learning_rate=1.25,n_estimators=400, random_state=1)\n",
        "\n",
        "\n",
        "# fitting data\n",
        "ada_boost.fit(X_train,y_train)\n",
        "\n",
        "#Predicting value\n",
        "y_pred_ada = ada_boost.predict(X_test)\n",
        "\n",
        "mae, mse, rmse, r_squared = evaluation(y_test, y_pred_ada)\n",
        "print(\"MAE:\", mae)\n",
        "print(\"MSE:\", mse)\n",
        "print(\"RMSE:\", rmse)\n",
        "print(\"R2 Score:\", r_squared)\n",
        "\n",
        "#cross validation score\n",
        "cv_scores = cross_val_score(ada_boost, X_train, y_train, cv=5,scoring= 'r2')\n",
        "cv_scores.mean()\n"
      ]
    },
    {
      "cell_type": "code",
      "execution_count": null,
      "id": "3af21997",
      "metadata": {
        "id": "3af21997",
        "outputId": "b59738a7-2326-4bd3-8db7-70e6ac885d05"
      },
      "outputs": [
        {
          "data": {
            "text/html": [
              "<div>\n",
              "<style scoped>\n",
              "    .dataframe tbody tr th:only-of-type {\n",
              "        vertical-align: middle;\n",
              "    }\n",
              "\n",
              "    .dataframe tbody tr th {\n",
              "        vertical-align: top;\n",
              "    }\n",
              "\n",
              "    .dataframe thead th {\n",
              "        text-align: right;\n",
              "    }\n",
              "</style>\n",
              "<table border=\"1\" class=\"dataframe\">\n",
              "  <thead>\n",
              "    <tr style=\"text-align: right;\">\n",
              "      <th></th>\n",
              "      <th>campaign_id</th>\n",
              "      <th>sender</th>\n",
              "      <th>subject_len</th>\n",
              "      <th>body_len</th>\n",
              "      <th>mean_paragraph_len</th>\n",
              "      <th>day_of_week</th>\n",
              "      <th>is_weekend</th>\n",
              "      <th>times_of_day</th>\n",
              "      <th>category</th>\n",
              "      <th>product</th>\n",
              "      <th>no_of_CTA</th>\n",
              "      <th>mean_CTA_len</th>\n",
              "      <th>is_image</th>\n",
              "      <th>is_personalised</th>\n",
              "      <th>is_quote</th>\n",
              "      <th>is_timer</th>\n",
              "      <th>is_emoticons</th>\n",
              "      <th>is_discount</th>\n",
              "      <th>is_price</th>\n",
              "      <th>is_urgency</th>\n",
              "      <th>target_audience</th>\n",
              "    </tr>\n",
              "  </thead>\n",
              "  <tbody>\n",
              "    <tr>\n",
              "      <th>0</th>\n",
              "      <td>1889</td>\n",
              "      <td>3</td>\n",
              "      <td>61</td>\n",
              "      <td>12871</td>\n",
              "      <td>11</td>\n",
              "      <td>6</td>\n",
              "      <td>1</td>\n",
              "      <td>Noon</td>\n",
              "      <td>6</td>\n",
              "      <td>26</td>\n",
              "      <td>3</td>\n",
              "      <td>37</td>\n",
              "      <td>1</td>\n",
              "      <td>0</td>\n",
              "      <td>0</td>\n",
              "      <td>0</td>\n",
              "      <td>1</td>\n",
              "      <td>0</td>\n",
              "      <td>0</td>\n",
              "      <td>0</td>\n",
              "      <td>14</td>\n",
              "    </tr>\n",
              "    <tr>\n",
              "      <th>1</th>\n",
              "      <td>1890</td>\n",
              "      <td>3</td>\n",
              "      <td>54</td>\n",
              "      <td>2569</td>\n",
              "      <td>256</td>\n",
              "      <td>5</td>\n",
              "      <td>1</td>\n",
              "      <td>Morning</td>\n",
              "      <td>2</td>\n",
              "      <td>11</td>\n",
              "      <td>0</td>\n",
              "      <td>22</td>\n",
              "      <td>0</td>\n",
              "      <td>0</td>\n",
              "      <td>0</td>\n",
              "      <td>0</td>\n",
              "      <td>0</td>\n",
              "      <td>0</td>\n",
              "      <td>0</td>\n",
              "      <td>0</td>\n",
              "      <td>10</td>\n",
              "    </tr>\n",
              "    <tr>\n",
              "      <th>2</th>\n",
              "      <td>1891</td>\n",
              "      <td>3</td>\n",
              "      <td>88</td>\n",
              "      <td>1473</td>\n",
              "      <td>78</td>\n",
              "      <td>4</td>\n",
              "      <td>0</td>\n",
              "      <td>Evening</td>\n",
              "      <td>2</td>\n",
              "      <td>11</td>\n",
              "      <td>0</td>\n",
              "      <td>22</td>\n",
              "      <td>1</td>\n",
              "      <td>0</td>\n",
              "      <td>1</td>\n",
              "      <td>0</td>\n",
              "      <td>0</td>\n",
              "      <td>0</td>\n",
              "      <td>0</td>\n",
              "      <td>0</td>\n",
              "      <td>10</td>\n",
              "    </tr>\n",
              "    <tr>\n",
              "      <th>3</th>\n",
              "      <td>1892</td>\n",
              "      <td>3</td>\n",
              "      <td>88</td>\n",
              "      <td>1473</td>\n",
              "      <td>78</td>\n",
              "      <td>3</td>\n",
              "      <td>0</td>\n",
              "      <td>Evening</td>\n",
              "      <td>2</td>\n",
              "      <td>11</td>\n",
              "      <td>0</td>\n",
              "      <td>22</td>\n",
              "      <td>1</td>\n",
              "      <td>0</td>\n",
              "      <td>1</td>\n",
              "      <td>0</td>\n",
              "      <td>0</td>\n",
              "      <td>0</td>\n",
              "      <td>0</td>\n",
              "      <td>0</td>\n",
              "      <td>10</td>\n",
              "    </tr>\n",
              "    <tr>\n",
              "      <th>4</th>\n",
              "      <td>1893</td>\n",
              "      <td>3</td>\n",
              "      <td>78</td>\n",
              "      <td>9020</td>\n",
              "      <td>29</td>\n",
              "      <td>3</td>\n",
              "      <td>0</td>\n",
              "      <td>Noon</td>\n",
              "      <td>6</td>\n",
              "      <td>26</td>\n",
              "      <td>2</td>\n",
              "      <td>40</td>\n",
              "      <td>0</td>\n",
              "      <td>0</td>\n",
              "      <td>0</td>\n",
              "      <td>0</td>\n",
              "      <td>0</td>\n",
              "      <td>0</td>\n",
              "      <td>0</td>\n",
              "      <td>0</td>\n",
              "      <td>14</td>\n",
              "    </tr>\n",
              "  </tbody>\n",
              "</table>\n",
              "</div>"
            ],
            "text/plain": [
              "   campaign_id  sender  subject_len  body_len  mean_paragraph_len  \\\n",
              "0         1889       3           61     12871                  11   \n",
              "1         1890       3           54      2569                 256   \n",
              "2         1891       3           88      1473                  78   \n",
              "3         1892       3           88      1473                  78   \n",
              "4         1893       3           78      9020                  29   \n",
              "\n",
              "   day_of_week  is_weekend times_of_day  category  product  no_of_CTA  \\\n",
              "0            6           1         Noon         6       26          3   \n",
              "1            5           1      Morning         2       11          0   \n",
              "2            4           0      Evening         2       11          0   \n",
              "3            3           0      Evening         2       11          0   \n",
              "4            3           0         Noon         6       26          2   \n",
              "\n",
              "   mean_CTA_len  is_image  is_personalised  is_quote  is_timer  is_emoticons  \\\n",
              "0            37         1                0         0         0             1   \n",
              "1            22         0                0         0         0             0   \n",
              "2            22         1                0         1         0             0   \n",
              "3            22         1                0         1         0             0   \n",
              "4            40         0                0         0         0             0   \n",
              "\n",
              "   is_discount  is_price  is_urgency  target_audience  \n",
              "0            0         0           0               14  \n",
              "1            0         0           0               10  \n",
              "2            0         0           0               10  \n",
              "3            0         0           0               10  \n",
              "4            0         0           0               14  "
            ]
          },
          "execution_count": 69,
          "metadata": {},
          "output_type": "execute_result"
        }
      ],
      "source": [
        "test = pd.read_csv('test_Bk2wfZ3.csv')\n",
        "test.head()"
      ]
    },
    {
      "cell_type": "code",
      "execution_count": null,
      "id": "20594d0a",
      "metadata": {
        "id": "20594d0a"
      },
      "outputs": [],
      "source": [
        "test['times_of_day'] = test['times_of_day'].map({'Morning': 1,'Noon': '2', 'Evening': '3'})\n",
        "\n",
        "test['times_of_day'] = test['times_of_day'].astype(int)\n",
        "\n",
        "test = test.drop(['campaign_id'],axis=1)"
      ]
    },
    {
      "cell_type": "code",
      "execution_count": null,
      "id": "74b6dbf3",
      "metadata": {
        "id": "74b6dbf3",
        "outputId": "eb57da15-9441-4db3-8574-9a7c0ebb3b23"
      },
      "outputs": [
        {
          "data": {
            "text/html": [
              "<div>\n",
              "<style scoped>\n",
              "    .dataframe tbody tr th:only-of-type {\n",
              "        vertical-align: middle;\n",
              "    }\n",
              "\n",
              "    .dataframe tbody tr th {\n",
              "        vertical-align: top;\n",
              "    }\n",
              "\n",
              "    .dataframe thead th {\n",
              "        text-align: right;\n",
              "    }\n",
              "</style>\n",
              "<table border=\"1\" class=\"dataframe\">\n",
              "  <thead>\n",
              "    <tr style=\"text-align: right;\">\n",
              "      <th></th>\n",
              "      <th>sender</th>\n",
              "      <th>subject_len</th>\n",
              "      <th>body_len</th>\n",
              "      <th>mean_paragraph_len</th>\n",
              "      <th>day_of_week</th>\n",
              "      <th>is_weekend</th>\n",
              "      <th>times_of_day</th>\n",
              "      <th>category</th>\n",
              "      <th>product</th>\n",
              "      <th>no_of_CTA</th>\n",
              "      <th>mean_CTA_len</th>\n",
              "      <th>is_image</th>\n",
              "      <th>is_personalised</th>\n",
              "      <th>is_quote</th>\n",
              "      <th>is_timer</th>\n",
              "      <th>is_emoticons</th>\n",
              "      <th>is_discount</th>\n",
              "      <th>is_price</th>\n",
              "      <th>is_urgency</th>\n",
              "      <th>target_audience</th>\n",
              "    </tr>\n",
              "  </thead>\n",
              "  <tbody>\n",
              "    <tr>\n",
              "      <th>0</th>\n",
              "      <td>3</td>\n",
              "      <td>61</td>\n",
              "      <td>12871</td>\n",
              "      <td>11</td>\n",
              "      <td>6</td>\n",
              "      <td>1</td>\n",
              "      <td>2</td>\n",
              "      <td>6</td>\n",
              "      <td>26</td>\n",
              "      <td>3</td>\n",
              "      <td>37</td>\n",
              "      <td>1</td>\n",
              "      <td>0</td>\n",
              "      <td>0</td>\n",
              "      <td>0</td>\n",
              "      <td>1</td>\n",
              "      <td>0</td>\n",
              "      <td>0</td>\n",
              "      <td>0</td>\n",
              "      <td>14</td>\n",
              "    </tr>\n",
              "    <tr>\n",
              "      <th>1</th>\n",
              "      <td>3</td>\n",
              "      <td>54</td>\n",
              "      <td>2569</td>\n",
              "      <td>256</td>\n",
              "      <td>5</td>\n",
              "      <td>1</td>\n",
              "      <td>1</td>\n",
              "      <td>2</td>\n",
              "      <td>11</td>\n",
              "      <td>0</td>\n",
              "      <td>22</td>\n",
              "      <td>0</td>\n",
              "      <td>0</td>\n",
              "      <td>0</td>\n",
              "      <td>0</td>\n",
              "      <td>0</td>\n",
              "      <td>0</td>\n",
              "      <td>0</td>\n",
              "      <td>0</td>\n",
              "      <td>10</td>\n",
              "    </tr>\n",
              "    <tr>\n",
              "      <th>2</th>\n",
              "      <td>3</td>\n",
              "      <td>88</td>\n",
              "      <td>1473</td>\n",
              "      <td>78</td>\n",
              "      <td>4</td>\n",
              "      <td>0</td>\n",
              "      <td>3</td>\n",
              "      <td>2</td>\n",
              "      <td>11</td>\n",
              "      <td>0</td>\n",
              "      <td>22</td>\n",
              "      <td>1</td>\n",
              "      <td>0</td>\n",
              "      <td>1</td>\n",
              "      <td>0</td>\n",
              "      <td>0</td>\n",
              "      <td>0</td>\n",
              "      <td>0</td>\n",
              "      <td>0</td>\n",
              "      <td>10</td>\n",
              "    </tr>\n",
              "    <tr>\n",
              "      <th>3</th>\n",
              "      <td>3</td>\n",
              "      <td>88</td>\n",
              "      <td>1473</td>\n",
              "      <td>78</td>\n",
              "      <td>3</td>\n",
              "      <td>0</td>\n",
              "      <td>3</td>\n",
              "      <td>2</td>\n",
              "      <td>11</td>\n",
              "      <td>0</td>\n",
              "      <td>22</td>\n",
              "      <td>1</td>\n",
              "      <td>0</td>\n",
              "      <td>1</td>\n",
              "      <td>0</td>\n",
              "      <td>0</td>\n",
              "      <td>0</td>\n",
              "      <td>0</td>\n",
              "      <td>0</td>\n",
              "      <td>10</td>\n",
              "    </tr>\n",
              "    <tr>\n",
              "      <th>4</th>\n",
              "      <td>3</td>\n",
              "      <td>78</td>\n",
              "      <td>9020</td>\n",
              "      <td>29</td>\n",
              "      <td>3</td>\n",
              "      <td>0</td>\n",
              "      <td>2</td>\n",
              "      <td>6</td>\n",
              "      <td>26</td>\n",
              "      <td>2</td>\n",
              "      <td>40</td>\n",
              "      <td>0</td>\n",
              "      <td>0</td>\n",
              "      <td>0</td>\n",
              "      <td>0</td>\n",
              "      <td>0</td>\n",
              "      <td>0</td>\n",
              "      <td>0</td>\n",
              "      <td>0</td>\n",
              "      <td>14</td>\n",
              "    </tr>\n",
              "  </tbody>\n",
              "</table>\n",
              "</div>"
            ],
            "text/plain": [
              "   sender  subject_len  body_len  mean_paragraph_len  day_of_week  is_weekend  \\\n",
              "0       3           61     12871                  11            6           1   \n",
              "1       3           54      2569                 256            5           1   \n",
              "2       3           88      1473                  78            4           0   \n",
              "3       3           88      1473                  78            3           0   \n",
              "4       3           78      9020                  29            3           0   \n",
              "\n",
              "   times_of_day  category  product  no_of_CTA  mean_CTA_len  is_image  \\\n",
              "0             2         6       26          3            37         1   \n",
              "1             1         2       11          0            22         0   \n",
              "2             3         2       11          0            22         1   \n",
              "3             3         2       11          0            22         1   \n",
              "4             2         6       26          2            40         0   \n",
              "\n",
              "   is_personalised  is_quote  is_timer  is_emoticons  is_discount  is_price  \\\n",
              "0                0         0         0             1            0         0   \n",
              "1                0         0         0             0            0         0   \n",
              "2                0         1         0             0            0         0   \n",
              "3                0         1         0             0            0         0   \n",
              "4                0         0         0             0            0         0   \n",
              "\n",
              "   is_urgency  target_audience  \n",
              "0           0               14  \n",
              "1           0               10  \n",
              "2           0               10  \n",
              "3           0               10  \n",
              "4           0               14  "
            ]
          },
          "execution_count": 71,
          "metadata": {},
          "output_type": "execute_result"
        }
      ],
      "source": [
        "test.head()"
      ]
    },
    {
      "cell_type": "code",
      "execution_count": null,
      "id": "6cc88221",
      "metadata": {
        "id": "6cc88221"
      },
      "outputs": [],
      "source": [
        "y_pred = ada_boost.predict(test)"
      ]
    },
    {
      "cell_type": "code",
      "execution_count": null,
      "id": "c16e4d3f",
      "metadata": {
        "id": "c16e4d3f",
        "outputId": "e541c498-931a-41eb-8ba7-4a93465bfdc4"
      },
      "outputs": [
        {
          "data": {
            "text/plain": [
              "4"
            ]
          },
          "execution_count": 73,
          "metadata": {},
          "output_type": "execute_result"
        }
      ],
      "source": [
        "2+2"
      ]
    },
    {
      "cell_type": "code",
      "execution_count": null,
      "id": "4e8bead9",
      "metadata": {
        "id": "4e8bead9",
        "outputId": "b1e00be3-ab7d-4ea1-e014-147edba00886"
      },
      "outputs": [
        {
          "data": {
            "text/plain": [
              "array([0.04735667, 0.7       , 0.12857143, 0.12857143, 0.12282561])"
            ]
          },
          "execution_count": 74,
          "metadata": {},
          "output_type": "execute_result"
        }
      ],
      "source": [
        "y_pred[:5]"
      ]
    },
    {
      "cell_type": "code",
      "execution_count": null,
      "id": "05b74554",
      "metadata": {
        "id": "05b74554",
        "outputId": "19212a75-d6b2-424f-cd4a-942b00c6e760"
      },
      "outputs": [
        {
          "data": {
            "text/html": [
              "<div>\n",
              "<style scoped>\n",
              "    .dataframe tbody tr th:only-of-type {\n",
              "        vertical-align: middle;\n",
              "    }\n",
              "\n",
              "    .dataframe tbody tr th {\n",
              "        vertical-align: top;\n",
              "    }\n",
              "\n",
              "    .dataframe thead th {\n",
              "        text-align: right;\n",
              "    }\n",
              "</style>\n",
              "<table border=\"1\" class=\"dataframe\">\n",
              "  <thead>\n",
              "    <tr style=\"text-align: right;\">\n",
              "      <th></th>\n",
              "      <th>click_rate</th>\n",
              "    </tr>\n",
              "  </thead>\n",
              "  <tbody>\n",
              "    <tr>\n",
              "      <th>0</th>\n",
              "      <td>0.047357</td>\n",
              "    </tr>\n",
              "    <tr>\n",
              "      <th>1</th>\n",
              "      <td>0.700000</td>\n",
              "    </tr>\n",
              "    <tr>\n",
              "      <th>2</th>\n",
              "      <td>0.128571</td>\n",
              "    </tr>\n",
              "    <tr>\n",
              "      <th>3</th>\n",
              "      <td>0.128571</td>\n",
              "    </tr>\n",
              "    <tr>\n",
              "      <th>4</th>\n",
              "      <td>0.122826</td>\n",
              "    </tr>\n",
              "  </tbody>\n",
              "</table>\n",
              "</div>"
            ],
            "text/plain": [
              "   click_rate\n",
              "0    0.047357\n",
              "1    0.700000\n",
              "2    0.128571\n",
              "3    0.128571\n",
              "4    0.122826"
            ]
          },
          "execution_count": 75,
          "metadata": {},
          "output_type": "execute_result"
        }
      ],
      "source": [
        "df = pd.DataFrame(y_pred,columns=['click_rate'])\n",
        "df.head()"
      ]
    },
    {
      "cell_type": "code",
      "execution_count": null,
      "id": "67c9eb5e",
      "metadata": {
        "id": "67c9eb5e",
        "outputId": "eb52034f-157e-4ebc-cc15-a853be7928cd"
      },
      "outputs": [
        {
          "data": {
            "text/html": [
              "<div>\n",
              "<style scoped>\n",
              "    .dataframe tbody tr th:only-of-type {\n",
              "        vertical-align: middle;\n",
              "    }\n",
              "\n",
              "    .dataframe tbody tr th {\n",
              "        vertical-align: top;\n",
              "    }\n",
              "\n",
              "    .dataframe thead th {\n",
              "        text-align: right;\n",
              "    }\n",
              "</style>\n",
              "<table border=\"1\" class=\"dataframe\">\n",
              "  <thead>\n",
              "    <tr style=\"text-align: right;\">\n",
              "      <th></th>\n",
              "      <th>campaign_id</th>\n",
              "      <th>click_rate</th>\n",
              "    </tr>\n",
              "  </thead>\n",
              "  <tbody>\n",
              "    <tr>\n",
              "      <th>0</th>\n",
              "      <td>1889</td>\n",
              "      <td>0.043454</td>\n",
              "    </tr>\n",
              "    <tr>\n",
              "      <th>1</th>\n",
              "      <td>1890</td>\n",
              "      <td>0.043454</td>\n",
              "    </tr>\n",
              "    <tr>\n",
              "      <th>2</th>\n",
              "      <td>1891</td>\n",
              "      <td>0.043454</td>\n",
              "    </tr>\n",
              "    <tr>\n",
              "      <th>3</th>\n",
              "      <td>1892</td>\n",
              "      <td>0.043454</td>\n",
              "    </tr>\n",
              "    <tr>\n",
              "      <th>4</th>\n",
              "      <td>1893</td>\n",
              "      <td>0.043454</td>\n",
              "    </tr>\n",
              "  </tbody>\n",
              "</table>\n",
              "</div>"
            ],
            "text/plain": [
              "   campaign_id  click_rate\n",
              "0         1889    0.043454\n",
              "1         1890    0.043454\n",
              "2         1891    0.043454\n",
              "3         1892    0.043454\n",
              "4         1893    0.043454"
            ]
          },
          "execution_count": 76,
          "metadata": {},
          "output_type": "execute_result"
        }
      ],
      "source": [
        "sol=pd.read_csv('sample_submission_LJ2N3ZQ.csv')\n",
        "sol.head()"
      ]
    },
    {
      "cell_type": "code",
      "execution_count": null,
      "id": "22029182",
      "metadata": {
        "id": "22029182",
        "outputId": "8e89f1fd-762a-4d74-90f6-a4f878884e8c"
      },
      "outputs": [
        {
          "data": {
            "text/html": [
              "<div>\n",
              "<style scoped>\n",
              "    .dataframe tbody tr th:only-of-type {\n",
              "        vertical-align: middle;\n",
              "    }\n",
              "\n",
              "    .dataframe tbody tr th {\n",
              "        vertical-align: top;\n",
              "    }\n",
              "\n",
              "    .dataframe thead th {\n",
              "        text-align: right;\n",
              "    }\n",
              "</style>\n",
              "<table border=\"1\" class=\"dataframe\">\n",
              "  <thead>\n",
              "    <tr style=\"text-align: right;\">\n",
              "      <th></th>\n",
              "      <th>campaign_id</th>\n",
              "      <th>click_rate</th>\n",
              "    </tr>\n",
              "  </thead>\n",
              "  <tbody>\n",
              "    <tr>\n",
              "      <th>0</th>\n",
              "      <td>1889</td>\n",
              "      <td>0.047357</td>\n",
              "    </tr>\n",
              "    <tr>\n",
              "      <th>1</th>\n",
              "      <td>1890</td>\n",
              "      <td>0.700000</td>\n",
              "    </tr>\n",
              "    <tr>\n",
              "      <th>2</th>\n",
              "      <td>1891</td>\n",
              "      <td>0.128571</td>\n",
              "    </tr>\n",
              "    <tr>\n",
              "      <th>3</th>\n",
              "      <td>1892</td>\n",
              "      <td>0.128571</td>\n",
              "    </tr>\n",
              "    <tr>\n",
              "      <th>4</th>\n",
              "      <td>1893</td>\n",
              "      <td>0.122826</td>\n",
              "    </tr>\n",
              "  </tbody>\n",
              "</table>\n",
              "</div>"
            ],
            "text/plain": [
              "   campaign_id  click_rate\n",
              "0         1889    0.047357\n",
              "1         1890    0.700000\n",
              "2         1891    0.128571\n",
              "3         1892    0.128571\n",
              "4         1893    0.122826"
            ]
          },
          "execution_count": 77,
          "metadata": {},
          "output_type": "execute_result"
        }
      ],
      "source": [
        "sol['click_rate']=df['click_rate']\n",
        "sol.head()"
      ]
    },
    {
      "cell_type": "code",
      "execution_count": null,
      "id": "dfde013c",
      "metadata": {
        "id": "dfde013c"
      },
      "outputs": [],
      "source": [
        "sol.to_csv('./submission.csv',index=False)"
      ]
    },
    {
      "cell_type": "code",
      "execution_count": null,
      "id": "fc5b326d",
      "metadata": {
        "id": "fc5b326d"
      },
      "outputs": [],
      "source": [
        ""
      ]
    }
  ],
  "metadata": {
    "kernelspec": {
      "display_name": "Python 3 (ipykernel)",
      "language": "python",
      "name": "python3"
    },
    "language_info": {
      "codemirror_mode": {
        "name": "ipython",
        "version": 3
      },
      "file_extension": ".py",
      "mimetype": "text/x-python",
      "name": "python",
      "nbconvert_exporter": "python",
      "pygments_lexer": "ipython3",
      "version": "3.9.12"
    },
    "colab": {
      "name": "all_algo_trial.ipynb",
      "provenance": [],
      "include_colab_link": true
    }
  },
  "nbformat": 4,
  "nbformat_minor": 5
}